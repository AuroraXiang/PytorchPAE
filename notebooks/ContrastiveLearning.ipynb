{
 "cells": [
  {
   "cell_type": "markdown",
   "id": "7dd500ab-a47b-4225-af44-4c748a82b0b2",
   "metadata": {},
   "source": [
    "# PAE with SDSS Data\n",
    "\n",
    "### step-by-step instructions for training a probabilsitic autoencoder with this package"
   ]
  },
  {
   "cell_type": "code",
   "execution_count": 1,
   "id": "57627e3d-f9b1-4b56-b835-b207442b9e68",
   "metadata": {},
   "outputs": [],
   "source": [
    "# import this package \n",
    "from pytorch_pae import AE\n",
    "from pytorch_pae import custom_transforms as ct"
   ]
  },
  {
   "cell_type": "code",
   "execution_count": null,
   "id": "1b6ff714-b114-4c7c-a2fd-3fc19fc3e76f",
   "metadata": {},
   "outputs": [],
   "source": []
  },
  {
   "cell_type": "code",
   "execution_count": 2,
   "id": "f85a4793-bb5e-4c4a-949f-73d44977f092",
   "metadata": {},
   "outputs": [],
   "source": [
    "import numpy as np\n",
    "import matplotlib.pyplot as plt\n",
    "import os"
   ]
  },
  {
   "cell_type": "code",
   "execution_count": 3,
   "id": "29c0269c-d6b5-4d72-835e-b9c5ab0cab03",
   "metadata": {},
   "outputs": [
    {
     "name": "stdout",
     "output_type": "stream",
     "text": [
      "1.8.0\n"
     ]
    }
   ],
   "source": [
    "# import pytorch\n",
    "import torch\n",
    "print(torch.__version__)"
   ]
  },
  {
   "cell_type": "code",
   "execution_count": 4,
   "id": "706abcb9-97ed-4051-a9e8-48cf2443833f",
   "metadata": {},
   "outputs": [],
   "source": [
    "from torchsummary import summary\n",
    "from torchvision import transforms"
   ]
  },
  {
   "cell_type": "code",
   "execution_count": 5,
   "id": "ad9d1c51-9275-4e4e-880c-d07f72d4df51",
   "metadata": {},
   "outputs": [
    {
     "name": "stdout",
     "output_type": "stream",
     "text": [
      "cuda:0\n"
     ]
    }
   ],
   "source": [
    "device = torch.device(\"cuda:0\" if torch.cuda.is_available() else \"cpu\")\n",
    "print(device)"
   ]
  },
  {
   "cell_type": "code",
   "execution_count": 6,
   "id": "a9d87956-d74a-422e-aaee-b8309e0d3058",
   "metadata": {},
   "outputs": [],
   "source": [
    "tt = transforms.Compose(\n",
    "    [\n",
    "        ct.RandomMask(masked_frac=0.1)\n",
    "    ]\n",
    ")\n",
    "tt = ct.ContrastiveTransformations(tt)"
   ]
  },
  {
   "cell_type": "markdown",
   "id": "71a973f2-6268-44f3-b90d-5b0c0e8b254c",
   "metadata": {},
   "source": [
    "## Step 1: Choose your parameters"
   ]
  },
  {
   "cell_type": "code",
   "execution_count": 15,
   "id": "6128cc78-f5b0-429f-a30f-ad1ecdccd358",
   "metadata": {},
   "outputs": [],
   "source": [
    "SEED          = 287505\n",
    "\n",
    "## data parameters\n",
    "dataset       = 'SDSS_DR16_small'\n",
    "loc           = '/global/cscratch1/sd/vboehm/Datasets/sdss/by_model'\n",
    "# number of layers in networks\n",
    "n_layers     = 1\n",
    "\n",
    "## fully connected net specific parameters\n",
    "# output size of each fully connected layer\n",
    "out_sizes    = [256]\n",
    "\n",
    "## parameters that apply to both, fully connected and convolutional nets \n",
    "# dropout rate after each layer\n",
    "dropout_rate = [0.0]\n",
    "# whether to Lipschitz regularize by bounding the spectral norm \n",
    "spec_norm    = False\n",
    "# activation function after each layer\n",
    "activations  = ['ReLU']\n",
    "# whether to add a bias in each layer or not\n",
    "bias         = [True]\n",
    "# whether tp apply a layer normalization after conv layer\n",
    "layer_norm   = [False]\n",
    "# whether to train elemntwise affine parameters for normalization layer \n",
    "affine       = False\n",
    "\n",
    "## general parameters\n",
    "# data dimensionality\n",
    "dim          = '1D'\n",
    "# latent space dimensionality\n",
    "latent_dim   = 8\n",
    "hidden_dim   = 4\n",
    "# number of channels in data\n",
    "input_c      = 1 \n",
    "# data dimensioality along one axis (only square data supported in 2D)\n",
    "input_dim    = 1000\n",
    "# type of encoder and decoder network (either 'fc' or 'conv')\n",
    "encoder_type = 'fc'\n",
    "decoder_type = 'fc'\n",
    "\n",
    "# if True, the output is fed through a sigmoid layer to bring data values into range [0,1]\n",
    "final_sigmoid = False\n",
    "\n",
    "\n",
    "## Training parameters\n",
    "nepochs          = 20\n",
    "batchsize        = 64\n",
    "batchsize_valid  = 64\n",
    "initial_lr       = 1e-2\n",
    "\n",
    "optimizer        = 'Adam'\n",
    "criterion1       = 'contrastive_loss'\n",
    "criterion2       = 'contrastive_loss'\n",
    "\n",
    "scheduler        = 'ExponentialLR'\n",
    "scheduler_params = {'gamma':0.98}\n",
    "ann_epoch        = 500\n",
    "\n",
    "contrastive      = True\n",
    "tau              = 0.05"
   ]
  },
  {
   "cell_type": "code",
   "execution_count": 16,
   "id": "861e682f-cde3-4571-91fa-658b8fb37952",
   "metadata": {},
   "outputs": [],
   "source": [
    "general_params      = {'input_c': input_c, 'input_dim': input_dim, 'latent_dim': latent_dim, 'encoder_type': encoder_type, 'decoder_type': decoder_type, 'dim': dim, 'contrastive':contrastive, 'hidden_dim':hidden_dim, 'tau': tau}\n",
    "fc_network_params   = {'n_layers': n_layers, 'out_sizes': out_sizes,'activations': activations, 'spec_norm': spec_norm, 'dropout_rate':dropout_rate, \\\n",
    "                       'layer_norm': layer_norm, 'affine': affine, 'final_sigmoid': final_sigmoid, 'bias':bias}\n",
    "training_params     = {'batchsize': batchsize, 'initial_lr': initial_lr, 'optimizer': optimizer, 'criterion1': criterion1, 'criterion2': criterion2,\n",
    "                       'scheduler': scheduler, 'scheduler_params':scheduler_params, 'ann_epoch': ann_epoch, 'batchsize_valid': batchsize_valid}\n",
    "data_params         = {'dataset':dataset, 'loc': loc}"
   ]
  },
  {
   "cell_type": "code",
   "execution_count": 17,
   "id": "7297f7af-b441-41d1-9523-bb55825f0880",
   "metadata": {},
   "outputs": [],
   "source": [
    "torch.manual_seed(SEED)\n",
    "np.random.seed(SEED)"
   ]
  },
  {
   "cell_type": "markdown",
   "id": "8a15e150-b672-4182-bbfe-d4f28110f169",
   "metadata": {},
   "source": [
    "## Step 2: Set up and train the autoencoder"
   ]
  },
  {
   "cell_type": "code",
   "execution_count": 18,
   "id": "3fb34b69-8954-4984-b941-61d49252ccc9",
   "metadata": {},
   "outputs": [],
   "source": [
    "AE1 = AE.Autoencoder(general_params,data_params,fc_network_params, fc_network_params, training_params, device, tt)"
   ]
  },
  {
   "cell_type": "code",
   "execution_count": 19,
   "id": "de487e60-7c9e-40a2-8f7b-2f073e9c9dd0",
   "metadata": {},
   "outputs": [],
   "source": [
    "test_sample = next(iter(AE1.valid_loader))"
   ]
  },
  {
   "cell_type": "code",
   "execution_count": 20,
   "id": "6fc13804-f517-4584-8dc7-78ed2e9729e4",
   "metadata": {},
   "outputs": [
    {
     "data": {
      "text/plain": [
       "[<matplotlib.lines.Line2D at 0x15545819d690>]"
      ]
     },
     "execution_count": 20,
     "metadata": {},
     "output_type": "execute_result"
    },
    {
     "data": {
      "image/png": "[encoded data removed]",
      "text/plain": [
       "<Figure size 432x288 with 1 Axes>"
      ]
     },
     "metadata": {
      "needs_background": "light"
     },
     "output_type": "display_data"
    }
   ],
   "source": [
    "plt.plot(np.squeeze(test_sample[0][0]))"
   ]
  },
  {
   "cell_type": "code",
   "execution_count": 21,
   "id": "529cc63d-2a66-43bc-9762-e596e54b3a51",
   "metadata": {},
   "outputs": [
    {
     "name": "stdout",
     "output_type": "stream",
     "text": [
      "----------------------------------------------------------------\n",
      "        Layer (type)               Output Shape         Param #\n",
      "================================================================\n",
      "           Flatten-1                 [-1, 1000]               0\n",
      "            Linear-2                  [-1, 256]         256,256\n",
      "              ReLU-3                  [-1, 256]               0\n",
      "           Dropout-4                  [-1, 256]               0\n",
      "            Linear-5                    [-1, 8]           2,056\n",
      "         FCEncoder-6                    [-1, 8]               0\n",
      "              ReLU-7                    [-1, 8]               0\n",
      "            Linear-8                    [-1, 6]              54\n",
      "              ReLU-9                    [-1, 6]               0\n",
      "           Linear-10                    [-1, 4]              28\n",
      "================================================================\n",
      "Total params: 258,394\n",
      "Trainable params: 258,394\n",
      "Non-trainable params: 0\n",
      "----------------------------------------------------------------\n",
      "Input size (MB): 0.00\n",
      "Forward/backward pass size (MB): 0.01\n",
      "Params size (MB): 0.99\n",
      "Estimated Total Size (MB): 1.00\n",
      "----------------------------------------------------------------\n"
     ]
    }
   ],
   "source": [
    "if dim =='1D':\n",
    "    summary(AE1, (input_c,input_dim))\n",
    "else:\n",
    "    summary(AE1, (input_c, input_dim, input_dim))"
   ]
  },
  {
   "cell_type": "code",
   "execution_count": 22,
   "id": "27f0ba1b-aaa9-4cb8-930e-ddbd06051ab8",
   "metadata": {},
   "outputs": [
    {
     "name": "stdout",
     "output_type": "stream",
     "text": [
      "epoch: 0, training loss: 3.3167e+00, validation loss: 3.1975e+00, learning rate: 9.8000e-03\n",
      "epoch: 1, training loss: 2.4594e+00, validation loss: 1.5773e+00, learning rate: 9.6040e-03\n",
      "epoch: 2, training loss: 1.3918e+00, validation loss: 1.2684e+00, learning rate: 9.4119e-03\n",
      "epoch: 3, training loss: 1.2036e+00, validation loss: 1.1331e+00, learning rate: 9.2237e-03\n",
      "epoch: 4, training loss: 1.1861e+00, validation loss: 1.1067e+00, learning rate: 9.0392e-03\n",
      "epoch: 5, training loss: 1.1686e+00, validation loss: 1.2597e+00, learning rate: 8.8584e-03\n",
      "epoch: 6, training loss: 1.1615e+00, validation loss: 1.2921e+00, learning rate: 8.6813e-03\n",
      "epoch: 7, training loss: 1.1543e+00, validation loss: 1.1522e+00, learning rate: 8.5076e-03\n",
      "epoch: 8, training loss: 1.1412e+00, validation loss: 1.1199e+00, learning rate: 8.3375e-03\n",
      "epoch: 9, training loss: 1.1405e+00, validation loss: 1.0210e+00, learning rate: 8.1707e-03\n",
      "epoch: 10, training loss: 1.1306e+00, validation loss: 1.1247e+00, learning rate: 8.0073e-03\n",
      "epoch: 11, training loss: 1.1275e+00, validation loss: 1.0924e+00, learning rate: 7.8472e-03\n",
      "epoch: 12, training loss: 1.1264e+00, validation loss: 1.1679e+00, learning rate: 7.6902e-03\n",
      "epoch: 13, training loss: 1.1250e+00, validation loss: 1.0438e+00, learning rate: 7.5364e-03\n",
      "epoch: 14, training loss: 1.1257e+00, validation loss: 1.2913e+00, learning rate: 7.3857e-03\n",
      "epoch: 15, training loss: 1.1266e+00, validation loss: 1.1906e+00, learning rate: 7.2380e-03\n",
      "epoch: 16, training loss: 1.1251e+00, validation loss: 9.9615e-01, learning rate: 7.0932e-03\n",
      "epoch: 17, training loss: 1.1247e+00, validation loss: 1.1862e+00, learning rate: 6.9514e-03\n",
      "epoch: 18, training loss: 1.1212e+00, validation loss: 1.0209e+00, learning rate: 6.8123e-03\n",
      "epoch: 19, training loss: 1.1232e+00, validation loss: 1.1767e+00, learning rate: 6.6761e-03\n"
     ]
    }
   ],
   "source": [
    "train_loss, valid_loss = AE1.train(nepochs)"
   ]
  },
  {
   "cell_type": "code",
   "execution_count": 23,
   "id": "3858f4c6-67cd-4c59-b2b7-eb42fb7ebed8",
   "metadata": {},
   "outputs": [
    {
     "data": {
      "image/png": "[encoded data removed]",
      "text/plain": [
       "<Figure size 432x288 with 1 Axes>"
      ]
     },
     "metadata": {
      "needs_background": "light"
     },
     "output_type": "display_data"
    }
   ],
   "source": [
    "plt.figure()\n",
    "plt.title('Autoencoder Training',fontsize=14)\n",
    "plt.plot(train_loss, label='training')\n",
    "plt.plot(valid_loss, label='validation')\n",
    "plt.xlabel('epoch',fontsize=13)\n",
    "plt.ylabel('loss',fontsize=13)\n",
    "plt.legend(fontsize=13)\n",
    "plt.show()"
   ]
  },
  {
   "cell_type": "code",
   "execution_count": 24,
   "id": "822c6ed1-da9f-4c2f-ab89-779d81d93c43",
   "metadata": {},
   "outputs": [],
   "source": [
    "\n",
    "\n",
    "encoded1= AE1(test_sample[0].to(AE1.device)).detach().cpu()\n",
    "encoded2= AE1(test_sample[1].to(AE1.device)).detach().cpu()\n"
   ]
  },
  {
   "cell_type": "code",
   "execution_count": 25,
   "id": "7cdafdb2-25f2-4b29-9ad9-e49ce4d3b1df",
   "metadata": {},
   "outputs": [
    {
     "data": {
      "text/plain": [
       "<matplotlib.collections.PathCollection at 0x155439f50b50>"
      ]
     },
     "execution_count": 25,
     "metadata": {},
     "output_type": "execute_result"
    },
    {
     "data": {
      "image/png": "[encoded data removed]",
      "text/plain": [
       "<Figure size 432x288 with 1 Axes>"
      ]
     },
     "metadata": {
      "needs_background": "light"
     },
     "output_type": "display_data"
    }
   ],
   "source": [
    "\n",
    "\n",
    "plt.scatter(encoded1[:,0].cpu(),encoded1[:,1])\n",
    "plt.scatter(encoded2[:,0].cpu(),encoded2[:,1],marker='+')\n",
    "\n"
   ]
  },
  {
   "cell_type": "code",
   "execution_count": null,
   "id": "13a50d23-eb9f-41a3-a8ae-d1df02c6a306",
   "metadata": {},
   "outputs": [],
   "source": []
  }
 ],
 "metadata": {
  "kernelspec": {
   "display_name": "pytorch",
   "language": "python",
   "name": "pytorch"
  },
  "language_info": {
   "codemirror_mode": {
    "name": "ipython",
    "version": 3
   },
   "file_extension": ".py",
   "mimetype": "text/x-python",
   "name": "python",
   "nbconvert_exporter": "python",
   "pygments_lexer": "ipython3",
   "version": "3.7.10"
  }
 },
 "nbformat": 4,
 "nbformat_minor": 5
}
